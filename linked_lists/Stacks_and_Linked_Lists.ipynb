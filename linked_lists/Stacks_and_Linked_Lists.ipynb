{
 "cells": [
  {
   "cell_type": "markdown",
   "metadata": {},
   "source": [
    "# Python Arrays"
   ]
  },
  {
   "cell_type": "markdown",
   "metadata": {},
   "source": [
    "**Motivation:** I have experience with arrays from programming classes in C but have moslty worked with lists in python. Here I play around with the functions of the Python array type."
   ]
  },
  {
   "cell_type": "code",
   "execution_count": 1,
   "metadata": {},
   "outputs": [],
   "source": [
    "import array"
   ]
  },
  {
   "cell_type": "code",
   "execution_count": 2,
   "metadata": {},
   "outputs": [],
   "source": [
    "# character array\n",
    "my_char_array = array.array('b')\n",
    "# character array initialized from a set of ints\n",
    "my_char_array2 = array.array('b',[1,-2])\n",
    "# character array intialized from a set of \n",
    "my_unicode_array = array.array('u',['a','b','c'])"
   ]
  },
  {
   "cell_type": "code",
   "execution_count": 3,
   "metadata": {},
   "outputs": [
    {
     "data": {
      "text/plain": [
       "array('u', 'abc')"
      ]
     },
     "execution_count": 3,
     "metadata": {},
     "output_type": "execute_result"
    }
   ],
   "source": [
    "my_unicode_array"
   ]
  },
  {
   "cell_type": "code",
   "execution_count": 4,
   "metadata": {},
   "outputs": [],
   "source": [
    "class MyArrayStack:\n",
    "    \"\"\"Stack Data Type implemented using an array\"\"\"\n",
    "    def __init__(self,typecode,initializer=None):\n",
    "        if initializer is not None:\n",
    "            self.data = array.array(typecode,initializer)\n",
    "        else:\n",
    "            self.data = array.array(typecode)\n",
    "    \n",
    "    def pop(self):\n",
    "        \"\"\"Return the value of the most recently added element.\n",
    "        Remove the element from the list.\n",
    "        \n",
    "        >>> t = MyArrayStack('u')\n",
    "        >>> for letter in ['c','d','e','f']:\n",
    "        ...     t.append(letter)\n",
    "        >>> t.pop()\n",
    "        'f'\n",
    "        >>> repr(t)\n",
    "        'Top->Bottom:edc'\n",
    "        \n",
    "        \"\"\"\n",
    "        return self.data.pop()\n",
    "    \n",
    "    def top(self):\n",
    "        \"\"\"Return the value of the most recently added element.\n",
    "        \n",
    "        >>> t = MyArrayStack('u')\n",
    "        >>> for letter in ['c','d','e','f']:\n",
    "        ...     t.append(letter)\n",
    "        >>> t.top()\n",
    "        'f'\n",
    "        >>> repr(t)\n",
    "        'Top->Bottom:fedc'\n",
    "        \n",
    "        \"\"\"\n",
    "        if len(self.data):\n",
    "            return self.data[-1]\n",
    "        else:\n",
    "            return None\n",
    "    \n",
    "    def append(self,val):\n",
    "        \"\"\"Add an element to the top of the stack.\n",
    "        \n",
    "        >>> t = MyArrayStack('u')\n",
    "        >>> for letter in ['a','b','c','d']:\n",
    "        ...     t.append(letter)\n",
    "        >>> repr(t)\n",
    "        'Top->Bottom:dcba'\n",
    "        \n",
    "        \"\"\"\n",
    "        self.data.append(val)\n",
    "    \n",
    "    def is_empty(self):\n",
    "        if len(self.data):\n",
    "            return False\n",
    "        else:\n",
    "            return True\n",
    "    \n",
    "    \n",
    "    def __repr__(self):\n",
    "        s = 'Top->Bottom:'\n",
    "        for i in reversed(self.data):\n",
    "            s += i       \n",
    "        return s\n",
    "        \n",
    "            \n",
    "        "
   ]
  },
  {
   "cell_type": "code",
   "execution_count": 5,
   "metadata": {},
   "outputs": [
    {
     "data": {
      "text/plain": [
       "TestResults(failed=0, attempted=11)"
      ]
     },
     "execution_count": 5,
     "metadata": {},
     "output_type": "execute_result"
    }
   ],
   "source": [
    "import doctest\n",
    "doctest.testmod(extraglobs={'t':MyArrayStack('u')})"
   ]
  },
  {
   "cell_type": "code",
   "execution_count": 6,
   "metadata": {},
   "outputs": [],
   "source": [
    "t = MyArrayStack('u')\n",
    "if len(t.data):\n",
    "    print('Hello!')"
   ]
  },
  {
   "cell_type": "code",
   "execution_count": 7,
   "metadata": {},
   "outputs": [
    {
     "data": {
      "text/plain": [
       "TestResults(failed=0, attempted=11)"
      ]
     },
     "execution_count": 7,
     "metadata": {},
     "output_type": "execute_result"
    }
   ],
   "source": [
    "doctest.testmod() "
   ]
  },
  {
   "cell_type": "code",
   "execution_count": 8,
   "metadata": {},
   "outputs": [
    {
     "data": {
      "text/plain": [
       "True"
      ]
     },
     "execution_count": 8,
     "metadata": {},
     "output_type": "execute_result"
    }
   ],
   "source": [
    "t.is_empty()"
   ]
  },
  {
   "cell_type": "code",
   "execution_count": 9,
   "metadata": {},
   "outputs": [
    {
     "ename": "IndexError",
     "evalue": "pop from empty array",
     "output_type": "error",
     "traceback": [
      "\u001b[0;31m---------------------------------------------------------------------------\u001b[0m",
      "\u001b[0;31mIndexError\u001b[0m                                Traceback (most recent call last)",
      "\u001b[0;32m<ipython-input-9-f05cb48c71e5>\u001b[0m in \u001b[0;36m<module>\u001b[0;34m\u001b[0m\n\u001b[0;32m----> 1\u001b[0;31m \u001b[0mt\u001b[0m\u001b[0;34m.\u001b[0m\u001b[0mpop\u001b[0m\u001b[0;34m(\u001b[0m\u001b[0;34m)\u001b[0m\u001b[0;34m\u001b[0m\u001b[0;34m\u001b[0m\u001b[0m\n\u001b[0m",
      "\u001b[0;32m<ipython-input-4-ef330c5dd0f8>\u001b[0m in \u001b[0;36mpop\u001b[0;34m(self)\u001b[0m\n\u001b[1;32m     20\u001b[0m \u001b[0;34m\u001b[0m\u001b[0m\n\u001b[1;32m     21\u001b[0m         \"\"\"\n\u001b[0;32m---> 22\u001b[0;31m         \u001b[0;32mreturn\u001b[0m \u001b[0mself\u001b[0m\u001b[0;34m.\u001b[0m\u001b[0mdata\u001b[0m\u001b[0;34m.\u001b[0m\u001b[0mpop\u001b[0m\u001b[0;34m(\u001b[0m\u001b[0;34m)\u001b[0m\u001b[0;34m\u001b[0m\u001b[0;34m\u001b[0m\u001b[0m\n\u001b[0m\u001b[1;32m     23\u001b[0m \u001b[0;34m\u001b[0m\u001b[0m\n\u001b[1;32m     24\u001b[0m     \u001b[0;32mdef\u001b[0m \u001b[0mtop\u001b[0m\u001b[0;34m(\u001b[0m\u001b[0mself\u001b[0m\u001b[0;34m)\u001b[0m\u001b[0;34m:\u001b[0m\u001b[0;34m\u001b[0m\u001b[0;34m\u001b[0m\u001b[0m\n",
      "\u001b[0;31mIndexError\u001b[0m: pop from empty array"
     ]
    }
   ],
   "source": [
    "t.pop()"
   ]
  },
  {
   "cell_type": "markdown",
   "metadata": {},
   "source": [
    "# Linked Lists"
   ]
  },
  {
   "cell_type": "markdown",
   "metadata": {},
   "source": [
    "## Creating the Lists"
   ]
  },
  {
   "cell_type": "code",
   "execution_count": 10,
   "metadata": {},
   "outputs": [],
   "source": [
    "class NodeLinked:\n",
    "    \"\"\"Node object for singly linked lists. Each node contains a value and a pointer\n",
    "    to to a next node.\"\"\"\n",
    "    \n",
    "    def __init__(self, value):\n",
    "        self.value = value\n",
    "        self.next = None\n",
    "        \n",
    "    def set_next(self, node):\n",
    "        self.next = node\n",
    "    \n",
    "    def set_next_to_none(self):\n",
    "        self.next = None\n",
    "    \n",
    "    def __repr__(self):\n",
    "        s = \"value: {}\\n\".format(self.value)\n",
    "        if self.next is not None:\n",
    "            s += \"next: {}\".format(self.next.value)\n",
    "            return s\n",
    "        else:\n",
    "            s += \"next: None\"\n",
    "            return s\n",
    "        "
   ]
  },
  {
   "cell_type": "code",
   "execution_count": 11,
   "metadata": {},
   "outputs": [],
   "source": [
    "class NodeDoublyLinked(NodeLinked):\n",
    "    \"\"\"Node object for doubly linked list. Defined as an inherited class for practice.\"\"\"\n",
    "    \n",
    "    def __init__(self,value):\n",
    "        super(NodeDoublyLinked, self).__init__(value)\n",
    "        self.previous = None\n",
    "        \n",
    "    def set_previous(self, node):\n",
    "        self.previous = node\n",
    "    \n",
    "    def set_previous_to_null(self, node):\n",
    "        self.previous = None\n",
    "    \n",
    "    def __repr__(self):\n",
    "        s = super(NodeDoublyLinked, self).__repr__()\n",
    "        \n",
    "        if self.previous is not None:\n",
    "            s += \"\\nprevious: {}\".format(self.previous.value)\n",
    "            return s\n",
    "        else:\n",
    "            s += \"\\nprevious: None\"\n",
    "            return s\n",
    "        "
   ]
  },
  {
   "cell_type": "code",
   "execution_count": 12,
   "metadata": {},
   "outputs": [],
   "source": [
    "myNode = NodeDoublyLinked(1)"
   ]
  },
  {
   "cell_type": "code",
   "execution_count": 13,
   "metadata": {},
   "outputs": [
    {
     "name": "stdout",
     "output_type": "stream",
     "text": [
      "value: 1\n",
      "next: None\n",
      "previous: None\n",
      "\n",
      "value: 2\n",
      "next: None\n",
      "previous: None\n",
      "\n",
      "value: 3\n",
      "next: None\n",
      "previous: None\n"
     ]
    }
   ],
   "source": [
    "node_1 = NodeDoublyLinked(1)\n",
    "node_2 = NodeDoublyLinked(2)\n",
    "node_3 = NodeDoublyLinked(3)\n",
    "print('{}\\n\\n{}\\n\\n{}'.format(node_1, node_2, node_3))"
   ]
  },
  {
   "cell_type": "code",
   "execution_count": 14,
   "metadata": {},
   "outputs": [
    {
     "name": "stdout",
     "output_type": "stream",
     "text": [
      "value: 1\n",
      "next: None\n",
      "previous: None\n",
      "\n",
      "value: 2\n",
      "next: 3\n",
      "previous: 1\n",
      "\n",
      "value: 3\n",
      "next: None\n",
      "previous: None\n"
     ]
    }
   ],
   "source": [
    "node_2.set_next(node_3)\n",
    "node_2.set_previous(node_1)\n",
    "print('{}\\n\\n{}\\n\\n{}'.format(node_1, node_2, node_3))"
   ]
  },
  {
   "cell_type": "markdown",
   "metadata": {},
   "source": [
    "## Creating the Singly Linked List (With Tail Pointer)"
   ]
  },
  {
   "cell_type": "code",
   "execution_count": 15,
   "metadata": {},
   "outputs": [],
   "source": [
    "class SinglyLinkedList():\n",
    "    \"\"\"Singly Linked List data structure with end pointer.\"\"\"\n",
    "    \n",
    "    def __init__(self):\n",
    "        self._head = None\n",
    "        self._tail = None\n",
    "    \n",
    "    def push_front(self, value):\n",
    "        \"\"\"Add a node containg value the front of the list.\n",
    "        \n",
    "        >>> l = SinglyLinkedList()\n",
    "        >>> l.push_front('A')\n",
    "        >>> l.head.value == 'A'\n",
    "        True\n",
    "        >>> l.push_front('B')\n",
    "        >>> l.head.value == 'B'\n",
    "        True\n",
    "        \"\"\"\n",
    "        \n",
    "        \n",
    "        \"\"\"Note to self: \n",
    "     \n",
    "        I am very confused about scoping. \n",
    "        Particularly about the ability to access \n",
    "        and get useful values from internal nodes.\"\"\"\n",
    "        \n",
    "        # if list is empty, simply initialize the node\n",
    "        if self.is_empty():\n",
    "            self._head = NodeLinked(value)\n",
    "            self._tail = self._head\n",
    "        \n",
    "        # if list isn't empty, update\n",
    "        else:\n",
    "            old = self._head\n",
    "            self._head = NodeLinked(value)\n",
    "            self._head.next = old\n",
    "            \n",
    "    \n",
    "    def top_front(self):\n",
    "        \"\"\"Return the node from the front of the list. \"\"\"\n",
    "        \n",
    "        if not self.is_empty():\n",
    "            return self._head.value\n",
    "        else:\n",
    "            return None\n",
    "    \n",
    "    def pop_front(self):\n",
    "        \"\"\"Return the node from the front of the list. \n",
    "        Remove that node from the list.\"\"\"\n",
    "        \n",
    "        if not self.is_empty():\n",
    "            popped = self._head\n",
    "            self._head = popped.next\n",
    "            return popped.value\n",
    "        else:\n",
    "            return None\n",
    "    \n",
    "    def push_back(self, value):\n",
    "        \"\"\"Add an node containing value to the back of the list. \n",
    "        \"\"\"\n",
    "        \n",
    "        if self.is_empty():\n",
    "            self._head = NodeLinked(value)\n",
    "            self._tail = self._head\n",
    "            \n",
    "        else:\n",
    "            old_tail = self._tail\n",
    "            self._tail = NodeLinked(value)\n",
    "            old_tail.next = self._tail\n",
    "    \n",
    "    \n",
    "    def top_back(self):\n",
    "        \"\"\"Return the value in the node at the back of the list.\n",
    "        \"\"\"\n",
    "        return self._tail.value\n",
    "    \n",
    "    def pop_back(self):\n",
    "        \"\"\"Return the value of the node at the back of the list.\n",
    "        Remove that node from the list.\n",
    "        \"\"\"\n",
    "        \n",
    "        if self.is_empty():\n",
    "            return None\n",
    "        \n",
    "        if self._head == self._tail:\n",
    "            val = self._head.value\n",
    "            self._head = None\n",
    "            self._tail = None\n",
    "            return val\n",
    "        \n",
    "        old_tail = self._tail\n",
    "        next_to_last = self._find_prev(old_tail)\n",
    "        next_to_last.next = None\n",
    "        self._tail = next_to_last\n",
    "        \n",
    "        return old_tail.value\n",
    "    \n",
    "    def find(self,key):\n",
    "        \"\"\"Return True if the key is in the list.\n",
    "        False otherwise.\"\"\"\n",
    "        \n",
    "        # return false if the list is empty\n",
    "        if self.is_empty():\n",
    "            return False\n",
    "        \n",
    "        # loop through nodes and return true if key is found\n",
    "        current_node = self._head\n",
    "        while current_node is not None:\n",
    "            if current_node.value == key:\n",
    "                return True\n",
    "            else:\n",
    "                current_node = current_node.next\n",
    "        return False\n",
    "      \n",
    "    \n",
    "    def erase(self, target):\n",
    "        \"\"\"Remove a node containing a value from the list.\n",
    "        \n",
    "        Do I need to call more than once? \"\"\"\n",
    "        \n",
    "        if self.is_empty():\n",
    "            return # is this right?\n",
    "        \n",
    "        if self._head.value == target:\n",
    "            self._head = self._head.next \n",
    "            \n",
    "        else:\n",
    "            prev, current = self._traverse_to_value(target)\n",
    "            if current is not None: \n",
    "                prev.next = current.next \n",
    "                if prev.next is None:\n",
    "                    self._tail = prev\n",
    "    \n",
    "    def is_empty(self):\n",
    "        \"\"\"Return True if list is empty, false otherwise.\n",
    "        \n",
    "        >>> l = SinglyLinkedList()\n",
    "        >>> l.is_empty\n",
    "        True\n",
    "        \n",
    "        >>> l = SinglyLinkedList()\n",
    "        >>> l.push_front('TestNode')\n",
    "        >>> l.is_empty\n",
    "        False\n",
    "        \"\"\"\n",
    "        if self._head is None:\n",
    "            return True\n",
    "        else: \n",
    "            return False\n",
    "    \n",
    "    \n",
    "    def add_before(self, target, value):\n",
    "        \"\"\"Add node to a before a value list.\n",
    "        \n",
    "        Do nothing if value is not in the list.\"\"\"\n",
    "        \n",
    "        if self.is_empty():\n",
    "            return\n",
    "        \n",
    "        if self._head.value == target:\n",
    "            self.push_front(value)\n",
    "            \n",
    "        else:\n",
    "            prev, _next = self._traverse_to_value(target)\n",
    "            if _next is not None: \n",
    "                current = NodeLinked(value)\n",
    "                current.next = _next\n",
    "                prev.next = current\n",
    "    \n",
    "    def add_after(self, target, value):\n",
    "        \"\"\" Add a node to before a target value.\n",
    "        \"\"\"\n",
    "        if self.is_empty():\n",
    "            return\n",
    "        \n",
    "        if self._tail.value == target:\n",
    "            self.push_back(value)\n",
    "            \n",
    "        else: \n",
    "            prevprev, prev = self._traverse_to_value(target)\n",
    "            if prev is not None:\n",
    "                current = NodeLinked(value)\n",
    "                current.next = prev.next\n",
    "                prev.next = current \n",
    "                \n",
    "    def reverse_in_place(self):\n",
    "        \n",
    "        # if empty list return\n",
    "        if self.is_empty():\n",
    "            return\n",
    "        \n",
    "        #if this is a single element list, return\n",
    "        if self._tail == self._head:\n",
    "            return\n",
    "        \n",
    "        #if this is a multi-element list loop\n",
    "        else:\n",
    "            #redirect tail pointer\n",
    "            self._tail = self._head\n",
    "            \n",
    "            #reverse pointers in head node\n",
    "            current = self._head\n",
    "            _next = current.next\n",
    "            current.next = None\n",
    "            \n",
    "            # loop through nodes reversing the pointers\n",
    "            while _next is not None:\n",
    "                \n",
    "                # increment the node and reverse pointers\n",
    "                prev = current\n",
    "                current = _next\n",
    "                _next = current.next\n",
    "                current.next = prev\n",
    "            \n",
    "            self._head = current\n",
    "        \n",
    "    def _traverse_to_node(self, target):\n",
    "        \"\"\"Return the node in the linked list\n",
    "        and it's prior node.\"\"\"\n",
    "        \n",
    "        # loop throuhgh the list for the\n",
    "        # node pointing to node\n",
    "        prev = None\n",
    "        current = self._head\n",
    "        while current != target:\n",
    "            prev = current\n",
    "            current = prev.next\n",
    "            if _next == None:\n",
    "                return None, None\n",
    "            \n",
    "        return prev, current\n",
    "    \n",
    "    def _traverse_to_value(self, value):\n",
    "        \"\"\"Find the node in the linked list.\n",
    "        \n",
    "        Takes: a head pointer to non-empty linked list\n",
    "        Returns: prev, current nodes if an element is found.\n",
    "                 None, None if element is not found\"\"\"\n",
    "        \n",
    "        prev = None\n",
    "        current = self._head\n",
    "        \n",
    "        # loop until you reach a node with a matching value\n",
    "        while current.value != value:\n",
    "            \n",
    "            if current.next is None:\n",
    "                return None, None\n",
    "            \n",
    "            prev = current\n",
    "            current = current.next\n",
    "        \n",
    "        #return that node and hte previous node\n",
    "        return prev, current\n",
    "    \n",
    "    def _find_prev(self,node):\n",
    "        \"\"\"Find the node in the linked list prior to node.\n",
    "        Requires that self is not empty. and that node \n",
    "        is not the head node.\"\"\"\n",
    "        \n",
    "        # loop throuhgh the list for the\n",
    "        # node pointing to node\n",
    "        current = self._head\n",
    "        _next = current.next\n",
    "        while current.next != node:\n",
    "            _next = current.next\n",
    "            current = _next\n",
    "        return current\n",
    "            "
   ]
  },
  {
   "cell_type": "code",
   "execution_count": 16,
   "metadata": {},
   "outputs": [],
   "source": [
    "my_list = SinglyLinkedList()\n",
    "assert(my_list.is_empty())\n",
    "my_list.push_front('A')\n",
    "assert(my_list.top_front() == 'A')\n",
    "my_list.push_front('B')\n",
    "assert(my_list.top_front() == 'B')\n",
    "my_list.push_back('C')\n",
    "assert(my_list.top_front() == 'B')\n",
    "assert(my_list.top_back() == 'C')\n",
    "var = my_list.pop_front()\n",
    "assert(var == 'B')\n",
    "assert(my_list.top_front() == 'A')\n",
    "assert(my_list.top_back() =='C')\n",
    "var = my_list.pop_back()\n",
    "assert(var == 'C')\n",
    "assert(my_list.top_front() == 'A')\n",
    "assert(my_list.top_back() == 'A')\n",
    "var = my_list.pop_back()\n",
    "assert(var == 'A')\n",
    "assert(my_list.is_empty())\n",
    "my_list.push_front('Z')\n",
    "var = my_list.pop_front()\n",
    "assert(var == 'Z')\n",
    "assert(my_list.is_empty())"
   ]
  },
  {
   "cell_type": "code",
   "execution_count": 17,
   "metadata": {},
   "outputs": [],
   "source": [
    "my_list = SinglyLinkedList()\n",
    "assert(my_list.is_empty())\n",
    "values = ['A','B','C','D','E']\n",
    "for val in values:\n",
    "    my_list.push_front(val)\n",
    "assert(my_list.top_front() == 'E')\n",
    "assert(my_list.top_back() == 'A')"
   ]
  },
  {
   "cell_type": "code",
   "execution_count": 18,
   "metadata": {},
   "outputs": [],
   "source": [
    "def push_front_all(in_list):\n",
    "    \"\"\"Push all values in a list into a linked list.\"\"\"\n",
    "    out_llist = SinglyLinkedList()\n",
    "    for val in in_list:\n",
    "        out_llist.push_front(val)\n",
    "    return out_llist\n",
    "\n",
    "def push_back_all(in_list):\n",
    "    \"\"\"Push all values in a list into a linked list.\"\"\"\n",
    "    out_llist = SinglyLinkedList()\n",
    "    for val in in_list:\n",
    "        out_llist.push_back(val)\n",
    "    return out_llist\n",
    "\n",
    "def pop_front_all(in_llist):\n",
    "    \"\"\"Convert a linked list into a list by popping all values from the front.\"\"\"\n",
    "    out_list = []\n",
    "    while True:\n",
    "        val = in_llist.pop_front()\n",
    "        if val is None:\n",
    "            break\n",
    "        out_list.append(val)\n",
    "    return out_list\n",
    "\n",
    "def pop_back_all(in_llist):\n",
    "    \"\"\"Convert a linked list into a list by popping all values from the back.\"\"\"\n",
    "    out_list = []\n",
    "    while True:\n",
    "        val = in_llist.pop_back()\n",
    "        if val is None:\n",
    "            break\n",
    "        out_list.append(val)\n",
    "    return out_list"
   ]
  },
  {
   "cell_type": "code",
   "execution_count": 19,
   "metadata": {},
   "outputs": [],
   "source": [
    "values = ['A', 'B', 'C', 'D', 'E']\n",
    "alist = push_front_all(values)\n",
    "assert(pop_back_all(alist) == values)\n",
    "alist = push_front_all(values)\n",
    "alist.erase('A')\n",
    "assert(pop_back_all(alist) == ['B', 'C', 'D', 'E'])\n",
    "alist = push_front_all(values)\n",
    "alist.erase('E')\n",
    "assert(pop_back_all(alist) == ['A', 'B', 'C', 'D'])\n",
    "alist = push_front_all(values)\n",
    "alist.erase('E')\n",
    "assert(pop_front_all(alist) == ['D', 'C', 'B', 'A'])\n",
    "alist = push_front_all(values)\n",
    "alist.erase('A')\n",
    "assert(pop_front_all(alist) == ['E', 'D','C','B'])\n",
    "alist = push_front_all(values)\n",
    "alist.erase('D')\n",
    "assert(pop_front_all(alist) == ['E', 'C', 'B', 'A'])\n",
    "alist = push_front_all(values)\n",
    "alist.erase('D')\n",
    "alist.erase('C')\n",
    "assert(pop_back_all(alist) == ['A', 'B', 'E'])"
   ]
  },
  {
   "cell_type": "code",
   "execution_count": 20,
   "metadata": {},
   "outputs": [],
   "source": [
    "# test on a two element list\n",
    "values = ['A','B']\n",
    "alist = push_front_all(values)\n",
    "assert(pop_back_all(alist) == values)\n",
    "alist = push_front_all(values)\n",
    "alist.erase('A')\n",
    "assert(pop_back_all(alist) == ['B'])\n",
    "alist = push_front_all(values)\n",
    "alist.erase('B')\n",
    "assert(pop_back_all(alist) == ['A'])\n",
    "alist = push_front_all(values)\n",
    "alist.erase('B')\n",
    "assert(pop_front_all(alist) == ['A'])\n",
    "alist = push_front_all(values)\n",
    "alist.erase('A')\n",
    "assert(pop_front_all(alist) == ['B'])"
   ]
  },
  {
   "cell_type": "code",
   "execution_count": 21,
   "metadata": {},
   "outputs": [],
   "source": [
    "# test on a single element list\n",
    "values = ['A']\n",
    "alist = push_front_all(values)\n",
    "assert(pop_back_all(alist) == values)\n",
    "alist = push_front_all(values)\n",
    "alist.erase('A')\n",
    "assert(pop_back_all(alist) == [])\n",
    "alist = push_front_all(values)\n",
    "alist.erase('A')\n",
    "assert(pop_front_all(alist) == [])"
   ]
  },
  {
   "cell_type": "code",
   "execution_count": 22,
   "metadata": {},
   "outputs": [],
   "source": [
    "# test add_before \n",
    "values = ['A','B','C','D']\n",
    "alist = push_front_all(values)\n",
    "alist.add_before('D','X')\n",
    "assert(pop_front_all(alist) == ['X', 'D', 'C', 'B', 'A'])\n",
    "alist = push_front_all(values)\n",
    "alist.add_before('C','X')\n",
    "assert(pop_front_all(alist) == ['D', 'X', 'C', 'B', 'A'])\n",
    "alist = push_front_all(values)\n",
    "alist.add_before('O','X')\n",
    "assert(pop_front_all(alist) == ['D', 'C', 'B', 'A'])\n",
    "alist = push_front_all(values)\n",
    "alist.add_after('D','X')\n",
    "assert(pop_front_all(alist) == ['D', 'X', 'C', 'B', 'A'])\n",
    "alist = push_front_all(values)\n",
    "alist.add_after('A','X')\n",
    "assert(pop_front_all(alist) == ['D', 'C', 'B', 'A', 'X'])\n",
    "alist = push_front_all(values)\n",
    "alist.add_after('O','X')\n",
    "assert(pop_front_all(alist) == ['D', 'C', 'B', 'A'])"
   ]
  },
  {
   "cell_type": "code",
   "execution_count": 23,
   "metadata": {},
   "outputs": [],
   "source": [
    "# test reverse\n",
    "values = ['A', 'B', 'C', 'D', 'E']\n",
    "alist = push_front_all(values)\n",
    "assert(pop_back_all(alist) == values)\n",
    "alist = push_front_all(values)\n",
    "alist.reverse_in_place()\n",
    "assert(pop_back_all(alist) == [i for i in reversed(values)])\n",
    "\n",
    "# test on a short list\n",
    "valuse = ['A','B']\n",
    "alist = push_front_all(values)\n",
    "assert(pop_back_all(alist) == values)\n",
    "alist = push_front_all(values)\n",
    "alist.reverse_in_place()\n",
    "assert(pop_back_all(alist) == [i for i in reversed(values)])"
   ]
  },
  {
   "cell_type": "code",
   "execution_count": 24,
   "metadata": {},
   "outputs": [],
   "source": [
    "values = ['A','B','C','D']\n",
    "alist = push_front_all(values)"
   ]
  },
  {
   "cell_type": "code",
   "execution_count": 25,
   "metadata": {},
   "outputs": [
    {
     "data": {
      "text/plain": [
       "4446496080"
      ]
     },
     "execution_count": 25,
     "metadata": {},
     "output_type": "execute_result"
    }
   ],
   "source": [
    "id(alist)"
   ]
  },
  {
   "cell_type": "code",
   "execution_count": null,
   "metadata": {},
   "outputs": [],
   "source": []
  }
 ],
 "metadata": {
  "kernelspec": {
   "display_name": "Python 3",
   "language": "python",
   "name": "python3"
  },
  "language_info": {
   "codemirror_mode": {
    "name": "ipython",
    "version": 3
   },
   "file_extension": ".py",
   "mimetype": "text/x-python",
   "name": "python",
   "nbconvert_exporter": "python",
   "pygments_lexer": "ipython3",
   "version": "3.6.8"
  }
 },
 "nbformat": 4,
 "nbformat_minor": 2
}
